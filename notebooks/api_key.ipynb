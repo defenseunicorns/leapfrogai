{
 "cells": [
  {
   "cell_type": "code",
   "execution_count": 1,
   "metadata": {},
   "outputs": [],
   "source": [
    "import requests"
   ]
  },
  {
   "cell_type": "code",
   "execution_count": 2,
   "metadata": {},
   "outputs": [
    {
     "name": "stdout",
     "output_type": "stream",
     "text": [
      "POST request successful!\n",
      "Response content: {'api_key': 'yMFY4wkUu3sMhvFRlfRZDGCfQ3u28NxLBaeDT7OzsUW2W9AybqUgf9EBkETffwnr'}\n"
     ]
    }
   ],
   "source": [
    "url = \"http://localhost:8080/openai/v1/register\"  # Replace this with the actual API endpoint\n",
    "\n",
    "# Data to be sent in the request body\n",
    "data = {\n",
    "    \"user_id\": \"testttting\",\n",
    "}\n",
    "\n",
    "# Headers to be added to the request\n",
    "headers = {\n",
    "    # \"Authorization\": \"Bearer YOUR_ACCESS_TOKEN\",  # Example of an authorization header\n",
    "    \"Content-Type\": \"application/json\",  # Example of a JSON content type header\n",
    "}\n",
    "\n",
    "# Make the POST request with headers\n",
    "response = requests.post(url, json=data, headers=headers)\n",
    "\n",
    "if response.status_code == 200:\n",
    "    # Request was successful\n",
    "    print(\"POST request successful!\")\n",
    "    print(\"Response content:\", response.json())\n",
    "else:\n",
    "    # Request failed\n",
    "    print(\"POST request failed! Status code:\", response.status_code)\n"
   ]
  },
  {
   "cell_type": "code",
   "execution_count": 5,
   "metadata": {},
   "outputs": [
    {
     "name": "stdout",
     "output_type": "stream",
     "text": [
      "POST request successful!\n",
      "Response content: {'data': [{'created': 0, 'id': 'text-embedding-ada-002', 'object': '', 'owned_by': 'Defense Unicorns', 'permission': [], 'root': '', 'parent': ''}, {'created': 0, 'id': 'instructorxl', 'object': '', 'owned_by': 'Defense Unicorns', 'permission': [], 'root': '', 'parent': ''}, {'created': 0, 'id': 'whisper-1', 'object': '', 'owned_by': 'Defense Unicorns', 'permission': [], 'root': '', 'parent': ''}, {'created': 0, 'id': 'mpt-7b-chat', 'object': '', 'owned_by': '', 'permission': [], 'root': '', 'parent': ''}, {'created': 0, 'id': 'ctransformers', 'object': '', 'owned_by': 'Defense Unicorns', 'permission': [], 'root': '', 'parent': ''}]}\n"
     ]
    }
   ],
   "source": [
    "api_key = \"yMFY4wkUu3sMhvFRlfRZDGCfQ3u28NxLBaeDT7OzsUW2W9AybqUgf9EBkETffwnr\"\n",
    "\n",
    "url = \"http://localhost:8080/openai/v1/models\"  # Replace this with the actual API endpoint\n",
    "\n",
    "# Data to be sent in the request body\n",
    "data = {}\n",
    "\n",
    "# Headers to be added to the request\n",
    "headers = {\n",
    "    \"Authorization\": f\"Bearer {api_key}\",  # Example of an authorization header\n",
    "    \"Content-Type\": \"application/json\",  # Example of a JSON content type header\n",
    "}\n",
    "\n",
    "# Make the GET request with headers\n",
    "response = requests.get(url, json=data, headers=headers)\n",
    "\n",
    "if response.status_code == 200:\n",
    "    # Request was successful\n",
    "    print(\"POST request successful!\")\n",
    "    print(\"Response content:\", response.json())\n",
    "else:\n",
    "    # Request failed\n",
    "    print(\"POST request failed! Status code:\", response.status_code)\n"
   ]
  }
 ],
 "metadata": {
  "kernelspec": {
   "display_name": "venv",
   "language": "python",
   "name": "python3"
  },
  "language_info": {
   "codemirror_mode": {
    "name": "ipython",
    "version": 3
   },
   "file_extension": ".py",
   "mimetype": "text/x-python",
   "name": "python",
   "nbconvert_exporter": "python",
   "pygments_lexer": "ipython3",
   "version": "3.10.12"
  },
  "orig_nbformat": 4
 },
 "nbformat": 4,
 "nbformat_minor": 2
}
