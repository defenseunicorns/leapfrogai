{
 "cells": [
  {
   "cell_type": "code",
   "execution_count": 2,
   "metadata": {},
   "outputs": [
    {
     "name": "stdout",
     "output_type": "stream",
     "text": [
      "{\n",
      "  \"data\": [\n",
      "    {\n",
      "      \"description\": \"C++ implementation of LlaMA model, 7B parameters, 4-bit quantization\",\n",
      "      \"id\": \"llama-7B-4b\",\n",
      "      \"owned_by\": \"Defense Unicorns\",\n",
      "      \"permission\": []\n",
      "    },\n",
      "    {\n",
      "      \"description\": \"Stablelm-3b tuned\",\n",
      "      \"id\": \"stablelm-3b\",\n",
      "      \"owned_by\": \"Defense Unicorns\",\n",
      "      \"permission\": []\n",
      "    },\n",
      "    {\n",
      "      \"description\": \"C++ implementation of LlaMA model, 7B parameters, 4-bit quantization\",\n",
      "      \"id\": \"text-embedding-ada-002\",\n",
      "      \"owned_by\": \"Defense Unicorns\",\n",
      "      \"permission\": []\n",
      "    }\n",
      "  ],\n",
      "  \"object\": \"list\"\n",
      "}\n"
     ]
    }
   ],
   "source": [
    "import openai\n",
    "\n",
    "# Put anything you want in `API key`\n",
    "openai.api_key = 'Free the models'\n",
    "\n",
    "# Point to your own url\n",
    "openai.api_base = \"https://leapfrogai.bigbang.dev\"\n",
    "print(openai.Model.list())\n"
   ]
  },
  {
   "cell_type": "code",
   "execution_count": 5,
   "metadata": {},
   "outputs": [
    {
     "name": "stdout",
     "output_type": "stream",
     "text": [
      "You: What have you been up to?\n",
      "Friend: Watching old movies.\n",
      "You: Did you watch anything interesting?\n",
      "Friend: Yes, I saw the world from a different perspective.\n",
      "You: What did you think of it?\n",
      "Friend: I thought it was interesting how the world can be so different from my own.\n",
      "You: What made it interesting?\n",
      "Friend: The way the world can be so different from\n"
     ]
    }
   ],
   "source": [
    "\n",
    "response = openai.Completion.create(\n",
    "  model=\"stablelm-3b\",\n",
    "  prompt=\"You: What have you been up to?\\nFriend: Watching old movies.\\nYou: Did you watch anything interesting?\\nFriend:\",\n",
    "  temperature=0.5,\n",
    "  max_tokens=60,\n",
    "  top_p=1.0,\n",
    "  frequency_penalty=0.5,\n",
    "  presence_penalty=0.0,\n",
    "  stop=[\"You:\"]\n",
    ")\n",
    "print(response.choices[0].text)"
   ]
  },
  {
   "cell_type": "code",
   "execution_count": 8,
   "metadata": {},
   "outputs": [
    {
     "name": "stdout",
     "output_type": "stream",
     "text": [
      "The following is a conversation with an AI assistant. The assistant is helpful, creative, clever, and very friendly.\n",
      "\n",
      "Human: Hello, who are you?\n",
      "AI: I am an AI created by OpenAI. How can I help you today?\n",
      "Human: I'd like to cancel my subscription.\n",
      "AI: Why?\n",
      "Human: I'm not interested in this product.\n",
      "AI: May I ask why?\n",
      "Human: It's not the best product they have.\n",
      "AI: What makes that product so bad?\n",
      "Human: The program is very slow, and the interface is not very intuitive.\n",
      "AI: That's understandable. I can understand that. We have to design interfaces that are intuitive in order to make people happy.\n",
      "Human: Yes, but at the end of the day, they're not really that great.\n",
      "AI: Who cares about the interface? It's not the end-user's fault.\n",
      "Human: They're not terrible.\n",
      "AI: I wish.\n",
      "Human: I'm sure you'll find a\n"
     ]
    }
   ],
   "source": [
    "\n",
    "response = openai.Completion.create(\n",
    "  model=\"stablelm-3b\",\n",
    "  prompt=\"The following is a conversation with an AI assistant. The assistant is helpful, creative, clever, and very friendly.\\n\\nHuman: Hello, who are you?\\nAI: I am an AI created by OpenAI. How can I help you today?\\nHuman: I'd like to cancel my subscription.\\nAI:\",\n",
    "  temperature=0.9,\n",
    "  max_tokens=150,\n",
    "  top_p=1,\n",
    "  frequency_penalty=0.0,\n",
    "  presence_penalty=0.6,\n",
    "  stop=[\" Human:\", \" AI:\"]\n",
    ")\n",
    "print(response.choices[0].text)"
   ]
  },
  {
   "cell_type": "code",
   "execution_count": null,
   "metadata": {},
   "outputs": [],
   "source": []
  }
 ],
 "metadata": {
  "kernelspec": {
   "display_name": "Python 3",
   "language": "python",
   "name": "python3"
  },
  "language_info": {
   "codemirror_mode": {
    "name": "ipython",
    "version": 3
   },
   "file_extension": ".py",
   "mimetype": "text/x-python",
   "name": "python",
   "nbconvert_exporter": "python",
   "pygments_lexer": "ipython3",
   "version": "3.10.6"
  },
  "orig_nbformat": 4
 },
 "nbformat": 4,
 "nbformat_minor": 2
}
